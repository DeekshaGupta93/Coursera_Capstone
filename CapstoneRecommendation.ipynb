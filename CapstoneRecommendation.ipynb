{
 "cells": [
  {
   "cell_type": "code",
   "execution_count": 1,
   "metadata": {
    "colab": {},
    "colab_type": "code",
    "id": "nggbXB3vR1P7"
   },
   "outputs": [
    {
     "name": "stderr",
     "output_type": "stream",
     "text": [
      "Using TensorFlow backend.\n"
     ]
    }
   ],
   "source": [
    "import os\n",
    "import numpy as np\n",
    "import pandas as pd\n",
    "import matplotlib.pyplot as plt\n",
    "from scipy.sparse import csr_matrix\n",
    "from sklearn.neighbors import NearestNeighbors\n",
    "from sklearn.model_selection import train_test_split\n",
    "from sklearn.preprocessing import LabelEncoder\n",
    "import tensorflow as tf\n",
    "from tensorflow import keras\n",
    "from tensorflow.keras import layers\n",
    "from keras.layers import Input, Embedding, Flatten, Dot, Dense\n",
    "from keras.models import Model"
   ]
  },
  {
   "cell_type": "markdown",
   "metadata": {
    "colab_type": "text",
    "id": "h0hOpD_LTZzH"
   },
   "source": [
    "# Data Download"
   ]
  },
  {
   "cell_type": "code",
   "execution_count": 2,
   "metadata": {
    "colab": {},
    "colab_type": "code",
    "id": "jzqZ19dTTccS"
   },
   "outputs": [],
   "source": [
    "DATASET_LINK='http://files.grouplens.org/datasets/movielens/ml-100k.zip'"
   ]
  },
  {
   "cell_type": "code",
   "execution_count": 13,
   "metadata": {
    "colab": {
     "base_uri": "https://localhost:8080/",
     "height": 51
    },
    "colab_type": "code",
    "id": "mdZZFrztTitw",
    "outputId": "86cebb2e-9d9d-48bb-e710-ce5160d23e71"
   },
   "outputs": [
    {
     "name": "stdout",
     "output_type": "stream",
     "text": [
      "Collecting package metadata (current_repodata.json): done\n",
      "Solving environment: done\n",
      "\n",
      "## Package Plan ##\n",
      "\n",
      "  environment location: /opt/anaconda3\n",
      "\n",
      "  added / updated specs:\n",
      "    - wget\n",
      "\n",
      "\n",
      "The following packages will be downloaded:\n",
      "\n",
      "    package                    |            build\n",
      "    ---------------------------|-----------------\n",
      "    conda-4.8.4                |           py37_0         3.0 MB  anaconda\n",
      "    wget-1.20.1                |       h051b688_0         478 KB  anaconda\n",
      "    ------------------------------------------------------------\n",
      "                                           Total:         3.5 MB\n",
      "\n",
      "The following NEW packages will be INSTALLED:\n",
      "\n",
      "  wget               anaconda/osx-64::wget-1.20.1-h051b688_0\n",
      "\n",
      "The following packages will be SUPERSEDED by a higher-priority channel:\n",
      "\n",
      "  conda              conda-forge::conda-4.8.4-py37hc8dfbb8~ --> anaconda::conda-4.8.4-py37_0\n",
      "\n",
      "\n",
      "\n",
      "Downloading and Extracting Packages\n",
      "conda-4.8.4          | 3.0 MB    | ##################################### | 100% \n",
      "wget-1.20.1          | 478 KB    | ##################################### | 100% \n",
      "Preparing transaction: done\n",
      "Verifying transaction: done\n",
      "Executing transaction: done\n"
     ]
    }
   ],
   "source": [
    "!conda install -c anaconda wget --yes\n"
   ]
  },
  {
   "cell_type": "code",
   "execution_count": 14,
   "metadata": {
    "colab": {
     "base_uri": "https://localhost:8080/",
     "height": 34
    },
    "colab_type": "code",
    "id": "HuNsa6eNTvXw",
    "outputId": "f1a646c3-8fc9-4b7e-b14e-6b21d1a4e531"
   },
   "outputs": [
    {
     "name": "stdout",
     "output_type": "stream",
     "text": [
      "--2020-08-27 20:34:37--  http://files.grouplens.org/datasets/movielens/ml-100k.zip\n",
      "Resolving files.grouplens.org... 128.101.65.152\n",
      "Connecting to files.grouplens.org|128.101.65.152|:80... connected.\n",
      "HTTP request sent, awaiting response... 200 OK\n",
      "Length: 4924029 (4.7M) [application/zip]\n",
      "Saving to: 'ml-100k.zip'\n",
      "\n",
      "ml-100k.zip         100%[===================>]   4.70M  2.28MB/s    in 2.1s    \n",
      "\n",
      "2020-08-27 20:34:40 (2.28 MB/s) - 'ml-100k.zip' saved [4924029/4924029]\n",
      "\n",
      "Archive:  ml-100k.zip\n",
      "   creating: ml-100k/\n",
      "  inflating: ml-100k/allbut.pl       \n",
      "  inflating: ml-100k/mku.sh          \n",
      "  inflating: ml-100k/README          \n",
      "  inflating: ml-100k/u.data          \n",
      "  inflating: ml-100k/u.genre         \n",
      "  inflating: ml-100k/u.info          \n",
      "  inflating: ml-100k/u.item          \n",
      "  inflating: ml-100k/u.occupation    \n",
      "  inflating: ml-100k/u.user          \n",
      "  inflating: ml-100k/u1.base         \n",
      "  inflating: ml-100k/u1.test         \n",
      "  inflating: ml-100k/u2.base         \n",
      "  inflating: ml-100k/u2.test         \n",
      "  inflating: ml-100k/u3.base         \n",
      "  inflating: ml-100k/u3.test         \n",
      "  inflating: ml-100k/u4.base         \n",
      "  inflating: ml-100k/u4.test         \n",
      "  inflating: ml-100k/u5.base         \n",
      "  inflating: ml-100k/u5.test         \n",
      "  inflating: ml-100k/ua.base         \n",
      "  inflating: ml-100k/ua.test         \n",
      "  inflating: ml-100k/ub.base         \n",
      "  inflating: ml-100k/ub.test         \n"
     ]
    }
   ],
   "source": [
    "!wget -nc http://files.grouplens.org/datasets/movielens/ml-100k.zip\n",
    "!unzip -n ml-100k.zip"
   ]
  },
  {
   "cell_type": "markdown",
   "metadata": {
    "colab_type": "text",
    "id": "k4ssThOQ4Uzi"
   },
   "source": [
    "Here we read two files for user and movies and finally merge them together"
   ]
  },
  {
   "cell_type": "code",
   "execution_count": 15,
   "metadata": {
    "colab": {
     "base_uri": "https://localhost:8080/",
     "height": 204
    },
    "colab_type": "code",
    "id": "xnO3CkSlR1QF",
    "outputId": "00efc3ab-eb28-4c12-f1f8-20c38c1417e8"
   },
   "outputs": [
    {
     "data": {
      "text/html": [
       "<div>\n",
       "<style scoped>\n",
       "    .dataframe tbody tr th:only-of-type {\n",
       "        vertical-align: middle;\n",
       "    }\n",
       "\n",
       "    .dataframe tbody tr th {\n",
       "        vertical-align: top;\n",
       "    }\n",
       "\n",
       "    .dataframe thead th {\n",
       "        text-align: right;\n",
       "    }\n",
       "</style>\n",
       "<table border=\"1\" class=\"dataframe\">\n",
       "  <thead>\n",
       "    <tr style=\"text-align: right;\">\n",
       "      <th></th>\n",
       "      <th>user_id</th>\n",
       "      <th>movie_id</th>\n",
       "      <th>rating</th>\n",
       "      <th>timestamp</th>\n",
       "    </tr>\n",
       "  </thead>\n",
       "  <tbody>\n",
       "    <tr>\n",
       "      <td>0</td>\n",
       "      <td>196</td>\n",
       "      <td>242</td>\n",
       "      <td>3</td>\n",
       "      <td>881250949</td>\n",
       "    </tr>\n",
       "    <tr>\n",
       "      <td>1</td>\n",
       "      <td>186</td>\n",
       "      <td>302</td>\n",
       "      <td>3</td>\n",
       "      <td>891717742</td>\n",
       "    </tr>\n",
       "    <tr>\n",
       "      <td>2</td>\n",
       "      <td>22</td>\n",
       "      <td>377</td>\n",
       "      <td>1</td>\n",
       "      <td>878887116</td>\n",
       "    </tr>\n",
       "    <tr>\n",
       "      <td>3</td>\n",
       "      <td>244</td>\n",
       "      <td>51</td>\n",
       "      <td>2</td>\n",
       "      <td>880606923</td>\n",
       "    </tr>\n",
       "    <tr>\n",
       "      <td>4</td>\n",
       "      <td>166</td>\n",
       "      <td>346</td>\n",
       "      <td>1</td>\n",
       "      <td>886397596</td>\n",
       "    </tr>\n",
       "  </tbody>\n",
       "</table>\n",
       "</div>"
      ],
      "text/plain": [
       "   user_id  movie_id  rating  timestamp\n",
       "0      196       242       3  881250949\n",
       "1      186       302       3  891717742\n",
       "2       22       377       1  878887116\n",
       "3      244        51       2  880606923\n",
       "4      166       346       1  886397596"
      ]
     },
     "execution_count": 15,
     "metadata": {},
     "output_type": "execute_result"
    }
   ],
   "source": [
    "col1 = ['user_id', 'movie_id', 'rating', 'timestamp']\n",
    "col2  = ['movie_id','movie_title']\n",
    "data1 = pd.read_csv(\"ml-100k/u.data\",sep='\\t',header=None,names=col1)\n",
    "data1.head()\n"
   ]
  },
  {
   "cell_type": "code",
   "execution_count": 16,
   "metadata": {
    "colab": {
     "base_uri": "https://localhost:8080/",
     "height": 204
    },
    "colab_type": "code",
    "id": "f8Y04HA6R1QR",
    "outputId": "046f94ab-44a8-43f8-d88d-0e3dda585a0c"
   },
   "outputs": [
    {
     "data": {
      "text/html": [
       "<div>\n",
       "<style scoped>\n",
       "    .dataframe tbody tr th:only-of-type {\n",
       "        vertical-align: middle;\n",
       "    }\n",
       "\n",
       "    .dataframe tbody tr th {\n",
       "        vertical-align: top;\n",
       "    }\n",
       "\n",
       "    .dataframe thead th {\n",
       "        text-align: right;\n",
       "    }\n",
       "</style>\n",
       "<table border=\"1\" class=\"dataframe\">\n",
       "  <thead>\n",
       "    <tr style=\"text-align: right;\">\n",
       "      <th></th>\n",
       "      <th>movie_id</th>\n",
       "      <th>movie_title</th>\n",
       "    </tr>\n",
       "  </thead>\n",
       "  <tbody>\n",
       "    <tr>\n",
       "      <td>0</td>\n",
       "      <td>1</td>\n",
       "      <td>Toy Story (1995)</td>\n",
       "    </tr>\n",
       "    <tr>\n",
       "      <td>1</td>\n",
       "      <td>2</td>\n",
       "      <td>GoldenEye (1995)</td>\n",
       "    </tr>\n",
       "    <tr>\n",
       "      <td>2</td>\n",
       "      <td>3</td>\n",
       "      <td>Four Rooms (1995)</td>\n",
       "    </tr>\n",
       "    <tr>\n",
       "      <td>3</td>\n",
       "      <td>4</td>\n",
       "      <td>Get Shorty (1995)</td>\n",
       "    </tr>\n",
       "    <tr>\n",
       "      <td>4</td>\n",
       "      <td>5</td>\n",
       "      <td>Copycat (1995)</td>\n",
       "    </tr>\n",
       "  </tbody>\n",
       "</table>\n",
       "</div>"
      ],
      "text/plain": [
       "   movie_id        movie_title\n",
       "0         1   Toy Story (1995)\n",
       "1         2   GoldenEye (1995)\n",
       "2         3  Four Rooms (1995)\n",
       "3         4  Get Shorty (1995)\n",
       "4         5     Copycat (1995)"
      ]
     },
     "execution_count": 16,
     "metadata": {},
     "output_type": "execute_result"
    }
   ],
   "source": [
    "data2=pd.read_csv(\"ml-100k/u.item\",sep='|',header=None,encoding='latin-1',usecols=[0, 1],names=col2)\n",
    "data2.head()"
   ]
  },
  {
   "cell_type": "markdown",
   "metadata": {
    "colab_type": "text",
    "id": "bBYG7a41UUP7"
   },
   "source": [
    "## Data Exploration\n",
    "\n"
   ]
  },
  {
   "cell_type": "code",
   "execution_count": 17,
   "metadata": {
    "colab": {
     "base_uri": "https://localhost:8080/",
     "height": 204
    },
    "colab_type": "code",
    "id": "6J4D9MbcR1QY",
    "outputId": "3012988c-2c77-41e0-b4ac-8cd084341174"
   },
   "outputs": [
    {
     "data": {
      "text/html": [
       "<div>\n",
       "<style scoped>\n",
       "    .dataframe tbody tr th:only-of-type {\n",
       "        vertical-align: middle;\n",
       "    }\n",
       "\n",
       "    .dataframe tbody tr th {\n",
       "        vertical-align: top;\n",
       "    }\n",
       "\n",
       "    .dataframe thead th {\n",
       "        text-align: right;\n",
       "    }\n",
       "</style>\n",
       "<table border=\"1\" class=\"dataframe\">\n",
       "  <thead>\n",
       "    <tr style=\"text-align: right;\">\n",
       "      <th></th>\n",
       "      <th>user_id</th>\n",
       "      <th>movie_id</th>\n",
       "      <th>rating</th>\n",
       "      <th>timestamp</th>\n",
       "      <th>movie_title</th>\n",
       "    </tr>\n",
       "  </thead>\n",
       "  <tbody>\n",
       "    <tr>\n",
       "      <td>0</td>\n",
       "      <td>196</td>\n",
       "      <td>242</td>\n",
       "      <td>3</td>\n",
       "      <td>881250949</td>\n",
       "      <td>Kolya (1996)</td>\n",
       "    </tr>\n",
       "    <tr>\n",
       "      <td>1</td>\n",
       "      <td>63</td>\n",
       "      <td>242</td>\n",
       "      <td>3</td>\n",
       "      <td>875747190</td>\n",
       "      <td>Kolya (1996)</td>\n",
       "    </tr>\n",
       "    <tr>\n",
       "      <td>2</td>\n",
       "      <td>226</td>\n",
       "      <td>242</td>\n",
       "      <td>5</td>\n",
       "      <td>883888671</td>\n",
       "      <td>Kolya (1996)</td>\n",
       "    </tr>\n",
       "    <tr>\n",
       "      <td>3</td>\n",
       "      <td>154</td>\n",
       "      <td>242</td>\n",
       "      <td>3</td>\n",
       "      <td>879138235</td>\n",
       "      <td>Kolya (1996)</td>\n",
       "    </tr>\n",
       "    <tr>\n",
       "      <td>4</td>\n",
       "      <td>306</td>\n",
       "      <td>242</td>\n",
       "      <td>5</td>\n",
       "      <td>876503793</td>\n",
       "      <td>Kolya (1996)</td>\n",
       "    </tr>\n",
       "  </tbody>\n",
       "</table>\n",
       "</div>"
      ],
      "text/plain": [
       "   user_id  movie_id  rating  timestamp   movie_title\n",
       "0      196       242       3  881250949  Kolya (1996)\n",
       "1       63       242       3  875747190  Kolya (1996)\n",
       "2      226       242       5  883888671  Kolya (1996)\n",
       "3      154       242       3  879138235  Kolya (1996)\n",
       "4      306       242       5  876503793  Kolya (1996)"
      ]
     },
     "execution_count": 17,
     "metadata": {},
     "output_type": "execute_result"
    }
   ],
   "source": [
    "data=pd.merge(data1,data2,on='movie_id')\n",
    "data.head()"
   ]
  },
  {
   "cell_type": "markdown",
   "metadata": {
    "colab_type": "text",
    "id": "4XMntnY44os-"
   },
   "source": [
    "Here we calculate the mean rating of all movies and displaying top 5 movies with highest average rating"
   ]
  },
  {
   "cell_type": "code",
   "execution_count": 18,
   "metadata": {
    "colab": {
     "base_uri": "https://localhost:8080/",
     "height": 136
    },
    "colab_type": "code",
    "id": "vNwsuqWFR1Qg",
    "outputId": "f5dbfc82-18bd-42c6-c043-e73bef64eb9b"
   },
   "outputs": [
    {
     "data": {
      "text/plain": [
       "movie_title\n",
       "Marlene Dietrich: Shadow and Light (1996)     5.0\n",
       "Prefontaine (1997)                            5.0\n",
       "Santa with Muscles (1996)                     5.0\n",
       "Star Kid (1997)                               5.0\n",
       "Someone Else's America (1995)                 5.0\n",
       "Name: rating, dtype: float64"
      ]
     },
     "execution_count": 18,
     "metadata": {},
     "output_type": "execute_result"
    }
   ],
   "source": [
    "\n",
    "rat=data.groupby('movie_title')['rating'].mean().sort_values(ascending=False)\n",
    "rat.head()"
   ]
  },
  {
   "cell_type": "markdown",
   "metadata": {
    "colab_type": "text",
    "id": "yjuOvpkQ4zPC"
   },
   "source": [
    "Here we display the top 50 movies with the highest number of ratings given by user"
   ]
  },
  {
   "cell_type": "code",
   "execution_count": 20,
   "metadata": {
    "colab": {
     "base_uri": "https://localhost:8080/",
     "height": 935
    },
    "colab_type": "code",
    "id": "0GkqSH56R1Qn",
    "outputId": "9bf8056b-08bb-4073-f17e-8c845f4e7704"
   },
   "outputs": [
    {
     "name": "stdout",
     "output_type": "stream",
     "text": [
      "movie_title\n",
      "Star Wars (1977)                                                                              583\n",
      "Contact (1997)                                                                                509\n",
      "Fargo (1996)                                                                                  508\n",
      "Return of the Jedi (1983)                                                                     507\n",
      "Liar Liar (1997)                                                                              485\n",
      "English Patient, The (1996)                                                                   481\n",
      "Scream (1996)                                                                                 478\n",
      "Toy Story (1995)                                                                              452\n",
      "Air Force One (1997)                                                                          431\n",
      "Independence Day (ID4) (1996)                                                                 429\n",
      "Raiders of the Lost Ark (1981)                                                                420\n",
      "Godfather, The (1972)                                                                         413\n",
      "Pulp Fiction (1994)                                                                           394\n",
      "Twelve Monkeys (1995)                                                                         392\n",
      "Silence of the Lambs, The (1991)                                                              390\n",
      "Jerry Maguire (1996)                                                                          384\n",
      "Chasing Amy (1997)                                                                            379\n",
      "Rock, The (1996)                                                                              378\n",
      "Empire Strikes Back, The (1980)                                                               367\n",
      "Star Trek: First Contact (1996)                                                               365\n",
      "Back to the Future (1985)                                                                     350\n",
      "Titanic (1997)                                                                                350\n",
      "Mission: Impossible (1996)                                                                    344\n",
      "Fugitive, The (1993)                                                                          336\n",
      "Indiana Jones and the Last Crusade (1989)                                                     331\n",
      "Willy Wonka and the Chocolate Factory (1971)                                                  326\n",
      "Princess Bride, The (1987)                                                                    324\n",
      "Forrest Gump (1994)                                                                           321\n",
      "Monty Python and the Holy Grail (1974)                                                        316\n",
      "Saint, The (1997)                                                                             316\n",
      "Full Monty, The (1997)                                                                        315\n",
      "Men in Black (1997)                                                                           303\n",
      "Terminator, The (1984)                                                                        301\n",
      "E.T. the Extra-Terrestrial (1982)                                                             300\n",
      "Dead Man Walking (1995)                                                                       299\n",
      "Schindler's List (1993)                                                                       298\n",
      "Leaving Las Vegas (1995)                                                                      298\n",
      "Braveheart (1995)                                                                             297\n",
      "L.A. Confidential (1997)                                                                      297\n",
      "Terminator 2: Judgment Day (1991)                                                             295\n",
      "Conspiracy Theory (1997)                                                                      295\n",
      "Mr. Holland's Opus (1995)                                                                     293\n",
      "Birdcage, The (1996)                                                                          293\n",
      "Twister (1996)                                                                                293\n",
      "Alien (1979)                                                                                  291\n",
      "When Harry Met Sally... (1989)                                                                290\n",
      "Aliens (1986)                                                                                 284\n",
      "Shawshank Redemption, The (1994)                                                              283\n",
      "Groundhog Day (1993)                                                                          280\n",
      "Jaws (1975)                                                                                   280\n",
      "Total Ratings                                   movie_title\n",
      "'Til There Was You (1997)         ...\n",
      "dtype: object\n"
     ]
    }
   ],
   "source": [
    "top_50 = data.groupby('movie_title').size().sort_values(ascending=False)[:50]\n",
    "top_50[\"Total Ratings\"] = data.groupby('movie_title').size()\n",
    "print(top_50)"
   ]
  },
  {
   "cell_type": "code",
   "execution_count": 21,
   "metadata": {
    "colab": {
     "base_uri": "https://localhost:8080/",
     "height": 305
    },
    "colab_type": "code",
    "id": "jLY6hwtaR1Qv",
    "outputId": "8d3ef035-3ad2-4f54-c3b0-6f7ae2c32441"
   },
   "outputs": [
    {
     "data": {
      "image/png": "[encoded data removed]",
      "text/plain": [
       "<Figure size 720x288 with 1 Axes>"
      ]
     },
     "metadata": {
      "needs_background": "light"
     },
     "output_type": "display_data"
    }
   ],
   "source": [
    "plt.figure(figsize =(10, 4))\n",
    "ax=plt.subplot()\n",
    "ax.bar(top_50.head(30).index,top_50[\"Total Ratings\"].head(30),color='c')\n",
    "ax.set_xticklabels(top_50,rotation=40)\n",
    "ax.set_title(\"Total Number of ratings for top 30 movies\")\n",
    "plt.show()"
   ]
  },
  {
   "cell_type": "code",
   "execution_count": 22,
   "metadata": {
    "colab": {
     "base_uri": "https://localhost:8080/",
     "height": 304
    },
    "colab_type": "code",
    "id": "VaprmkueR1Q0",
    "outputId": "82f51559-f732-4081-a9a1-78517a7af243"
   },
   "outputs": [
    {
     "data": {
      "image/png": "[encoded data removed]",
      "text/plain": [
       "<Figure size 432x288 with 1 Axes>"
      ]
     },
     "metadata": {
      "needs_background": "light"
     },
     "output_type": "display_data"
    }
   ],
   "source": [
    "plt.rc(\"font\", size=15)\n",
    "data1.rating.value_counts(sort=False).plot(kind='bar')\n",
    "plt.title('Rating Distribution')\n",
    "plt.xlabel('Rating')\n",
    "plt.ylabel('Count')\n",
    "plt.show()"
   ]
  },
  {
   "cell_type": "markdown",
   "metadata": {
    "colab_type": "text",
    "id": "w2UVyNYQ5Cex"
   },
   "source": [
    "Since we now know the highest rated movies and we know the number of rating for each user, we can come up with a threshold for the movies which shpuld be recommended for new users as collaborative filtering cant be applied to the new user since we have no information on the user preference, so we choose movies which surpasses the threhold of 250 for number of ratings and  the avergae rating more than 4 and recommend it to new user"
   ]
  },
  {
   "cell_type": "code",
   "execution_count": 23,
   "metadata": {
    "colab": {
     "base_uri": "https://localhost:8080/",
     "height": 238
    },
    "colab_type": "code",
    "id": "8zJ4CdTS5Bja",
    "outputId": "2670f3de-094a-4a72-dcb1-0ab598d32670"
   },
   "outputs": [
    {
     "name": "stdout",
     "output_type": "stream",
     "text": [
      "Movies Recommended for a new user:\n"
     ]
    },
    {
     "data": {
      "text/plain": [
       "['Empire Strikes Back, The (1980)',\n",
       " 'Fargo (1996)',\n",
       " 'Fugitive, The (1993)',\n",
       " 'Godfather, The (1972)',\n",
       " 'Monty Python and the Holy Grail (1974)',\n",
       " 'Princess Bride, The (1987)',\n",
       " 'Pulp Fiction (1994)',\n",
       " 'Raiders of the Lost Ark (1981)',\n",
       " 'Return of the Jedi (1983)',\n",
       " 'Silence of the Lambs, The (1991)',\n",
       " 'Star Wars (1977)',\n",
       " 'Titanic (1997)']"
      ]
     },
     "execution_count": 23,
     "metadata": {},
     "output_type": "execute_result"
    }
   ],
   "source": [
    "ratn=data.groupby('movie_title')['rating'].mean()\n",
    "\n",
    "num_rat=data.groupby('movie_title').size()\n",
    "movie=[]\n",
    "for i in range(0,len(ratn)):\n",
    "  if ratn[i]>4 and num_rat[i]>300:\n",
    "    movie.append(ratn.index[i])\n",
    "print(\"Movies Recommended for a new user:\")\n",
    "movie"
   ]
  },
  {
   "cell_type": "code",
   "execution_count": 24,
   "metadata": {
    "colab": {
     "base_uri": "https://localhost:8080/",
     "height": 386
    },
    "colab_type": "code",
    "id": "QW3wV7fkR1Q4",
    "outputId": "00a1273a-1639-45e4-b345-84a6167b7ac3"
   },
   "outputs": [
    {
     "data": {
      "text/html": [
       "<div>\n",
       "<style scoped>\n",
       "    .dataframe tbody tr th:only-of-type {\n",
       "        vertical-align: middle;\n",
       "    }\n",
       "\n",
       "    .dataframe tbody tr th {\n",
       "        vertical-align: top;\n",
       "    }\n",
       "\n",
       "    .dataframe thead th {\n",
       "        text-align: right;\n",
       "    }\n",
       "</style>\n",
       "<table border=\"1\" class=\"dataframe\">\n",
       "  <thead>\n",
       "    <tr style=\"text-align: right;\">\n",
       "      <th>movie_title</th>\n",
       "      <th>'Til There Was You (1997)</th>\n",
       "      <th>1-900 (1994)</th>\n",
       "      <th>101 Dalmatians (1996)</th>\n",
       "      <th>12 Angry Men (1957)</th>\n",
       "      <th>187 (1997)</th>\n",
       "      <th>2 Days in the Valley (1996)</th>\n",
       "      <th>20,000 Leagues Under the Sea (1954)</th>\n",
       "      <th>2001: A Space Odyssey (1968)</th>\n",
       "      <th>3 Ninjas: High Noon At Mega Mountain (1998)</th>\n",
       "      <th>39 Steps, The (1935)</th>\n",
       "      <th>...</th>\n",
       "      <th>Yankee Zulu (1994)</th>\n",
       "      <th>Year of the Horse (1997)</th>\n",
       "      <th>You So Crazy (1994)</th>\n",
       "      <th>Young Frankenstein (1974)</th>\n",
       "      <th>Young Guns (1988)</th>\n",
       "      <th>Young Guns II (1990)</th>\n",
       "      <th>Young Poisoner's Handbook, The (1995)</th>\n",
       "      <th>Zeus and Roxanne (1997)</th>\n",
       "      <th>unknown</th>\n",
       "      <th>Á köldum klaka (Cold Fever) (1994)</th>\n",
       "    </tr>\n",
       "    <tr>\n",
       "      <th>user_id</th>\n",
       "      <th></th>\n",
       "      <th></th>\n",
       "      <th></th>\n",
       "      <th></th>\n",
       "      <th></th>\n",
       "      <th></th>\n",
       "      <th></th>\n",
       "      <th></th>\n",
       "      <th></th>\n",
       "      <th></th>\n",
       "      <th></th>\n",
       "      <th></th>\n",
       "      <th></th>\n",
       "      <th></th>\n",
       "      <th></th>\n",
       "      <th></th>\n",
       "      <th></th>\n",
       "      <th></th>\n",
       "      <th></th>\n",
       "      <th></th>\n",
       "      <th></th>\n",
       "    </tr>\n",
       "  </thead>\n",
       "  <tbody>\n",
       "    <tr>\n",
       "      <td>1</td>\n",
       "      <td>0.0</td>\n",
       "      <td>0.0</td>\n",
       "      <td>2.0</td>\n",
       "      <td>5.0</td>\n",
       "      <td>0.0</td>\n",
       "      <td>0.0</td>\n",
       "      <td>3.0</td>\n",
       "      <td>4.0</td>\n",
       "      <td>0.0</td>\n",
       "      <td>0.0</td>\n",
       "      <td>...</td>\n",
       "      <td>0.0</td>\n",
       "      <td>0.0</td>\n",
       "      <td>0.0</td>\n",
       "      <td>5.0</td>\n",
       "      <td>3.0</td>\n",
       "      <td>0.0</td>\n",
       "      <td>0.0</td>\n",
       "      <td>0.0</td>\n",
       "      <td>4.0</td>\n",
       "      <td>0.0</td>\n",
       "    </tr>\n",
       "    <tr>\n",
       "      <td>2</td>\n",
       "      <td>0.0</td>\n",
       "      <td>0.0</td>\n",
       "      <td>0.0</td>\n",
       "      <td>0.0</td>\n",
       "      <td>0.0</td>\n",
       "      <td>0.0</td>\n",
       "      <td>0.0</td>\n",
       "      <td>0.0</td>\n",
       "      <td>1.0</td>\n",
       "      <td>0.0</td>\n",
       "      <td>...</td>\n",
       "      <td>0.0</td>\n",
       "      <td>0.0</td>\n",
       "      <td>0.0</td>\n",
       "      <td>0.0</td>\n",
       "      <td>0.0</td>\n",
       "      <td>0.0</td>\n",
       "      <td>0.0</td>\n",
       "      <td>0.0</td>\n",
       "      <td>0.0</td>\n",
       "      <td>0.0</td>\n",
       "    </tr>\n",
       "    <tr>\n",
       "      <td>3</td>\n",
       "      <td>0.0</td>\n",
       "      <td>0.0</td>\n",
       "      <td>0.0</td>\n",
       "      <td>0.0</td>\n",
       "      <td>2.0</td>\n",
       "      <td>0.0</td>\n",
       "      <td>0.0</td>\n",
       "      <td>0.0</td>\n",
       "      <td>0.0</td>\n",
       "      <td>0.0</td>\n",
       "      <td>...</td>\n",
       "      <td>0.0</td>\n",
       "      <td>0.0</td>\n",
       "      <td>0.0</td>\n",
       "      <td>0.0</td>\n",
       "      <td>0.0</td>\n",
       "      <td>0.0</td>\n",
       "      <td>0.0</td>\n",
       "      <td>0.0</td>\n",
       "      <td>0.0</td>\n",
       "      <td>0.0</td>\n",
       "    </tr>\n",
       "    <tr>\n",
       "      <td>4</td>\n",
       "      <td>0.0</td>\n",
       "      <td>0.0</td>\n",
       "      <td>0.0</td>\n",
       "      <td>0.0</td>\n",
       "      <td>0.0</td>\n",
       "      <td>0.0</td>\n",
       "      <td>0.0</td>\n",
       "      <td>0.0</td>\n",
       "      <td>0.0</td>\n",
       "      <td>0.0</td>\n",
       "      <td>...</td>\n",
       "      <td>0.0</td>\n",
       "      <td>0.0</td>\n",
       "      <td>0.0</td>\n",
       "      <td>0.0</td>\n",
       "      <td>0.0</td>\n",
       "      <td>0.0</td>\n",
       "      <td>0.0</td>\n",
       "      <td>0.0</td>\n",
       "      <td>0.0</td>\n",
       "      <td>0.0</td>\n",
       "    </tr>\n",
       "    <tr>\n",
       "      <td>5</td>\n",
       "      <td>0.0</td>\n",
       "      <td>0.0</td>\n",
       "      <td>2.0</td>\n",
       "      <td>0.0</td>\n",
       "      <td>0.0</td>\n",
       "      <td>0.0</td>\n",
       "      <td>0.0</td>\n",
       "      <td>4.0</td>\n",
       "      <td>0.0</td>\n",
       "      <td>0.0</td>\n",
       "      <td>...</td>\n",
       "      <td>0.0</td>\n",
       "      <td>0.0</td>\n",
       "      <td>0.0</td>\n",
       "      <td>4.0</td>\n",
       "      <td>0.0</td>\n",
       "      <td>0.0</td>\n",
       "      <td>0.0</td>\n",
       "      <td>0.0</td>\n",
       "      <td>4.0</td>\n",
       "      <td>0.0</td>\n",
       "    </tr>\n",
       "  </tbody>\n",
       "</table>\n",
       "<p>5 rows × 1664 columns</p>\n",
       "</div>"
      ],
      "text/plain": [
       "movie_title  'Til There Was You (1997)  1-900 (1994)  101 Dalmatians (1996)  \\\n",
       "user_id                                                                       \n",
       "1                                  0.0           0.0                    2.0   \n",
       "2                                  0.0           0.0                    0.0   \n",
       "3                                  0.0           0.0                    0.0   \n",
       "4                                  0.0           0.0                    0.0   \n",
       "5                                  0.0           0.0                    2.0   \n",
       "\n",
       "movie_title  12 Angry Men (1957)  187 (1997)  2 Days in the Valley (1996)  \\\n",
       "user_id                                                                     \n",
       "1                            5.0         0.0                          0.0   \n",
       "2                            0.0         0.0                          0.0   \n",
       "3                            0.0         2.0                          0.0   \n",
       "4                            0.0         0.0                          0.0   \n",
       "5                            0.0         0.0                          0.0   \n",
       "\n",
       "movie_title  20,000 Leagues Under the Sea (1954)  \\\n",
       "user_id                                            \n",
       "1                                            3.0   \n",
       "2                                            0.0   \n",
       "3                                            0.0   \n",
       "4                                            0.0   \n",
       "5                                            0.0   \n",
       "\n",
       "movie_title  2001: A Space Odyssey (1968)  \\\n",
       "user_id                                     \n",
       "1                                     4.0   \n",
       "2                                     0.0   \n",
       "3                                     0.0   \n",
       "4                                     0.0   \n",
       "5                                     4.0   \n",
       "\n",
       "movie_title  3 Ninjas: High Noon At Mega Mountain (1998)  \\\n",
       "user_id                                                    \n",
       "1                                                    0.0   \n",
       "2                                                    1.0   \n",
       "3                                                    0.0   \n",
       "4                                                    0.0   \n",
       "5                                                    0.0   \n",
       "\n",
       "movie_title  39 Steps, The (1935)  ...  Yankee Zulu (1994)  \\\n",
       "user_id                            ...                       \n",
       "1                             0.0  ...                 0.0   \n",
       "2                             0.0  ...                 0.0   \n",
       "3                             0.0  ...                 0.0   \n",
       "4                             0.0  ...                 0.0   \n",
       "5                             0.0  ...                 0.0   \n",
       "\n",
       "movie_title  Year of the Horse (1997)  You So Crazy (1994)  \\\n",
       "user_id                                                      \n",
       "1                                 0.0                  0.0   \n",
       "2                                 0.0                  0.0   \n",
       "3                                 0.0                  0.0   \n",
       "4                                 0.0                  0.0   \n",
       "5                                 0.0                  0.0   \n",
       "\n",
       "movie_title  Young Frankenstein (1974)  Young Guns (1988)  \\\n",
       "user_id                                                     \n",
       "1                                  5.0                3.0   \n",
       "2                                  0.0                0.0   \n",
       "3                                  0.0                0.0   \n",
       "4                                  0.0                0.0   \n",
       "5                                  4.0                0.0   \n",
       "\n",
       "movie_title  Young Guns II (1990)  Young Poisoner's Handbook, The (1995)  \\\n",
       "user_id                                                                    \n",
       "1                             0.0                                    0.0   \n",
       "2                             0.0                                    0.0   \n",
       "3                             0.0                                    0.0   \n",
       "4                             0.0                                    0.0   \n",
       "5                             0.0                                    0.0   \n",
       "\n",
       "movie_title  Zeus and Roxanne (1997)  unknown  \\\n",
       "user_id                                         \n",
       "1                                0.0      4.0   \n",
       "2                                0.0      0.0   \n",
       "3                                0.0      0.0   \n",
       "4                                0.0      0.0   \n",
       "5                                0.0      4.0   \n",
       "\n",
       "movie_title  Á köldum klaka (Cold Fever) (1994)  \n",
       "user_id                                          \n",
       "1                                           0.0  \n",
       "2                                           0.0  \n",
       "3                                           0.0  \n",
       "4                                           0.0  \n",
       "5                                           0.0  \n",
       "\n",
       "[5 rows x 1664 columns]"
      ]
     },
     "execution_count": 24,
     "metadata": {},
     "output_type": "execute_result"
    }
   ],
   "source": [
    "data=data.drop_duplicates(['user_id', 'movie_title'])\n",
    "pivot_data = data.pivot(\n",
    "    index='user_id',\n",
    "    columns='movie_title',\n",
    "    values='rating'\n",
    ").fillna(0)\n",
    "pivot_data.head()\n"
   ]
  },
  {
   "cell_type": "markdown",
   "metadata": {
    "colab_type": "text",
    "id": "cgtLDcfoBl6a"
   },
   "source": [
    "<h1>KNN</h1>"
   ]
  },
  {
   "cell_type": "code",
   "execution_count": 47,
   "metadata": {
    "colab": {
     "base_uri": "https://localhost:8080/",
     "height": 34
    },
    "colab_type": "code",
    "id": "X2A9KIrcR1Q_",
    "outputId": "b9a4bb49-6c08-4c83-d939-72c71cee0693"
   },
   "outputs": [
    {
     "name": "stdout",
     "output_type": "stream",
     "text": [
      "(943, 1664)\n"
     ]
    }
   ],
   "source": [
    "m_movie = csr_matrix(pivot_data.values)\n",
    "\n",
    "model_knn = NearestNeighbors(metric = 'cosine', algorithm = 'brute')\n",
    "model_knn.fit(m_movie)\n",
    "print(pivot_data.shape)"
   ]
  },
  {
   "cell_type": "markdown",
   "metadata": {
    "colab_type": "text",
    "id": "EQAT2yLuAOMH"
   },
   "source": [
    "Applying KNN method to find similar users"
   ]
  },
  {
   "cell_type": "code",
   "execution_count": 48,
   "metadata": {
    "colab": {},
    "colab_type": "code",
    "id": "qY_NvUWuR1RE"
   },
   "outputs": [],
   "source": [
    "def similar_user(user):\n",
    "    distances, indices = model_knn.kneighbors(pivot_data.iloc[user, :].values.reshape(1, -1), n_neighbors = 6)\n",
    "    for i in range(0, len(distances.flatten())):\n",
    "        if i == 0:\n",
    "            print('Similar User for {0}:\\n'.format(pivot_data.index[user-1]))\n",
    "        else:\n",
    "            print('{0}: {1}, with distance of {2}:'.format(i, pivot_data.index[indices.flatten()[i]], distances.flatten()[i]))\n",
    "    return indices.flatten()\n"
   ]
  },
  {
   "cell_type": "markdown",
   "metadata": {
    "colab_type": "text",
    "id": "b79C_VgmAcLh"
   },
   "source": [
    "Here we pass a user_id to the function and top 5 similar users are displayed"
   ]
  },
  {
   "cell_type": "code",
   "execution_count": 49,
   "metadata": {
    "colab": {
     "base_uri": "https://localhost:8080/",
     "height": 136
    },
    "colab_type": "code",
    "id": "5I_VXTwVR1RJ",
    "outputId": "d956e1c7-a636-4e0f-f65f-745835a3da78"
   },
   "outputs": [
    {
     "name": "stdout",
     "output_type": "stream",
     "text": [
      "Similar User for 777:\n",
      "\n",
      "1: 124, with distance of 0.4586649429539592:\n",
      "2: 933, with distance of 0.5581959868865324:\n",
      "3: 56, with distance of 0.5858413112292744:\n",
      "4: 738, with distance of 0.5916272517988691:\n",
      "5: 653, with distance of 0.5991479757406326:\n"
     ]
    }
   ],
   "source": [
    "indices=similar_user(777)\n",
    "indices=indices[1:]"
   ]
  },
  {
   "cell_type": "code",
   "execution_count": 50,
   "metadata": {
    "colab": {},
    "colab_type": "code",
    "id": "jws8_tkVR1RQ"
   },
   "outputs": [],
   "source": [
    "similar_data=pivot_data.iloc[indices-1, :]\n"
   ]
  },
  {
   "cell_type": "code",
   "execution_count": 51,
   "metadata": {
    "colab": {},
    "colab_type": "code",
    "id": "1Ojfv37FR1RV"
   },
   "outputs": [],
   "source": [
    "rat_list=[]\n",
    "for i in range(0, similar_data.shape[1]):\n",
    "    arr=np.asarray(similar_data.iloc[:,i])\n",
    "    rat_list.append(np.mean(arr))\n",
    "    \n",
    "rat_list=np.asarray(rat_list)   "
   ]
  },
  {
   "cell_type": "code",
   "execution_count": 52,
   "metadata": {
    "colab": {},
    "colab_type": "code",
    "id": "jXmw0d6mR1Re"
   },
   "outputs": [],
   "source": [
    "t = np.argpartition(-rat_list, 10)\n",
    "result_ind = t[:10]\n",
    "\n",
    "temp = np.partition(-rat_list, 10)\n",
    "result = -temp[:10]"
   ]
  },
  {
   "cell_type": "markdown",
   "metadata": {
    "colab_type": "text",
    "id": "yR_nE-lQBPp8"
   },
   "source": [
    "After finding similar user using KNN method by cosine similarity, we predict the rating of the movies by the user based on average ratings for the movies by similar users and recommend the highest rated movie."
   ]
  },
  {
   "cell_type": "code",
   "execution_count": 53,
   "metadata": {
    "colab": {
     "base_uri": "https://localhost:8080/",
     "height": 153
    },
    "colab_type": "code",
    "id": "WVAdWIO2R1Rm",
    "outputId": "aa6c8244-2c21-4ca0-e4ef-408a9af0e12a"
   },
   "outputs": [
    {
     "name": "stdout",
     "output_type": "stream",
     "text": [
      "Recomemndation for the input user:\n"
     ]
    },
    {
     "data": {
      "text/plain": [
       "array(['Braveheart (1995)', 'Godfather, The (1972)',\n",
       "       'Blade Runner (1982)',\n",
       "       'Dr. Strangelove or: How I Learned to Stop Worrying and Love the Bomb (1963)',\n",
       "       'Graduate, The (1967)', 'To Kill a Mockingbird (1962)',\n",
       "       'Fargo (1996)', 'Dead Man Walking (1995)',\n",
       "       'Terminator 2: Judgment Day (1991)', 'Lawrence of Arabia (1962)'],\n",
       "      dtype=object)"
      ]
     },
     "execution_count": 53,
     "metadata": {
      "tags": []
     },
     "output_type": "execute_result"
    }
   ],
   "source": [
    "x = np.asarray(similar_data.columns)\n",
    "print(\"Recomemndation for the input user:\")\n",
    "x[result_ind]"
   ]
  }
 ],
 "metadata": {
  "accelerator": "GPU",
  "colab": {
   "collapsed_sections": [],
   "name": "Project5.ipynb",
   "provenance": [],
   "toc_visible": true
  },
  "kernelspec": {
   "display_name": "Python 3",
   "language": "python",
   "name": "python3"
  },
  "language_info": {
   "codemirror_mode": {
    "name": "ipython",
    "version": 3
   },
   "file_extension": ".py",
   "mimetype": "text/x-python",
   "name": "python",
   "nbconvert_exporter": "python",
   "pygments_lexer": "ipython3",
   "version": "3.7.4"
  }
 },
 "nbformat": 4,
 "nbformat_minor": 1
}
